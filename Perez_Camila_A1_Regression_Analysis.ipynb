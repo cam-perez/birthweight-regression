{
 "cells": [
  {
   "cell_type": "code",
   "execution_count": 21,
   "id": "46e2ba15",
   "metadata": {},
   "outputs": [
    {
     "name": "stdout",
     "output_type": "stream",
     "text": [
      "\n",
      "Model      Train Score      Test Score      Gap Score\n",
      "-----      -----------      ----------      ----------\n",
      "OLS        0.7227           0.6514           0.0713    Final Model\n",
      "Lasso      0.7443           0.6145           0.1298\n",
      "ARD        0.735            0.6287           0.1063\n",
      "\n"
     ]
    }
   ],
   "source": [
    "\"\"\"A brief description of the code\n",
    "\n",
    "Created by Camila Perez as part of the course Machine Learning - DAT-5303\n",
    "\n",
    "The following code uses the data set birthweight after the low birth weight\n",
    "has been removed form the dataframe. The quality of the data has been analysed\n",
    "and improved and applied feature engineering when identified it was applicable.\n",
    "Then three different models were applied for train and testing purposes.\n",
    "\n",
    "Errors/Bugs identified as of November 24, 2021: None\"\"\"\n",
    "\n",
    "\n",
    "# Importing libraries \n",
    "import pandas as pd                                  # data science essentials\n",
    "import matplotlib.pyplot as plt                      # data visualization\n",
    "import seaborn as sns                                # enhanced data visualization\n",
    "import statsmodels.formula.api as smf                # linear regression (statsmodels)\n",
    "import sklearn.linear_model                          # linear models\n",
    "import numpy as np                                   # mathematical functions\n",
    "from sklearn.model_selection import train_test_split # train/test split\n",
    "from sklearn.linear_model import LinearRegression    # linear regression (scikit-learn)\n",
    "from sklearn.neighbors import KNeighborsRegressor    # KNN for Regression\n",
    "from sklearn.preprocessing import StandardScaler     # standard scaler\n",
    "\n",
    "\n",
    "# Stating file name\n",
    "file = './birthweight_low.xlsx'\n",
    "\n",
    "# Reading file into python\n",
    "bwlow = pd.read_excel(io        = file,\n",
    "                     header     = 0,\n",
    "                     sheet_name = 0)\n",
    "\n",
    "# Creating a copy of the DataFrame\n",
    "bwlow_colna = bwlow.copy()\n",
    "\n",
    "# Dropping columns with no data in\n",
    "bwlow_colna = bwlow_colna.dropna(axis = 1, how = 'all')\n",
    "\n",
    "\n",
    "##########################################################################\n",
    "# Imputing mising values\n",
    "##########################################################################\n",
    "# meduc\n",
    "fill = 12 #mode\n",
    "bwlow_colna['meduc'] = bwlow_colna['meduc'].fillna('fill')\n",
    "\n",
    "\n",
    "# npvis\n",
    "fill = 12 #mode\n",
    "bwlow_colna['npvis'] = bwlow_colna['npvis'].fillna(fill)\n",
    "\n",
    "\n",
    "# feduc\n",
    "fill = 12 #mode\n",
    "bwlow_colna['feduc'] = bwlow_colna['feduc'].fillna(fill)\n",
    "##########################################################################\n",
    "\n",
    "\n",
    "# log transforming bwght and saving it to the dataset\n",
    "bwlow_colna['log_bwght'] = np.log(bwlow_colna['bwght'])\n",
    "\n",
    "\n",
    "##########################################################################\n",
    "#Log transformation interval and count data\n",
    "##########################################################################\n",
    "\n",
    "# log transforming meduc and saving it to the dataset\n",
    "bwlow_colna['log_meduc'] = np.log(bwlow_colna['meduc'])\n",
    "\n",
    "# log transforming monpre and saving it to the dataset\n",
    "bwlow_colna['log_monpre'] = np.log(bwlow_colna['monpre'])\n",
    "\n",
    "# log transforming mpvis and saving it to the dataset\n",
    "bwlow_colna['log_npvis'] = np.log(bwlow_colna['npvis'])\n",
    "\n",
    "# log transforming feduc and saving it to the dataset\n",
    "bwlow_colna['log_feduc'] = np.log(bwlow_colna['feduc'])\n",
    "\n",
    "# log transforming omaps and saving it to the dataset\n",
    "bwlow_colna['log_omaps'] = np.log(bwlow_colna['omaps'])\n",
    "\n",
    "# log transforming fmaps and saving it to the dataset\n",
    "bwlow_colna['log_fmaps'] = np.log(bwlow_colna['fmaps'])\n",
    "\n",
    "\n",
    "##########################################################################\n",
    "\n",
    "#Creating mpoc feature and saving it to the dataset\n",
    "bwlow_colna['mpoc'] = (bwlow_colna['mblck'] + bwlow_colna['moth'])\n",
    "\n",
    "#Creating fpoc feature and saving it to the dataset\n",
    "bwlow_colna['fpoc'] = (bwlow_colna['fblck'] + bwlow_colna['foth'])\n",
    "\n",
    "# Dropping dummy column for ethnicity of mother\n",
    "bwlow_colna = bwlow_colna.drop(labels = \"moth\", axis = 1)\n",
    "\n",
    "# Dropping dummy column for ethnicity of mother\n",
    "bwlow_colna = bwlow_colna.drop(labels = \"foth\", axis = 1)\n",
    "\n",
    "##########################################################################\n",
    "# Test and train splitting\n",
    "##########################################################################\n",
    "\n",
    "# Preparing explanatory variable data\n",
    "bwght_data   = bwlow_colna.drop([\"bwght\",\n",
    "                               \"log_bwght\"],\n",
    "                               axis = 1)\n",
    "\n",
    "# preparing response variables\n",
    "bwght_target = bwlow_colna.loc[ : , \"bwght\"]\n",
    "log_bwght_target = bwlow_colna.loc[ : , \"log_bwght\"]\n",
    "\n",
    "\n",
    "# Preparing training and testing sets\n",
    "x_train, x_test, y_train, y_test = train_test_split(\n",
    "            bwght_data, # x-variables\n",
    "            bwght_target, # y-variable\n",
    "            test_size = 0.25, # test size\n",
    "            random_state = 219) # seed\n",
    "\n",
    "##########################################################################\n",
    "\n",
    "# declaring set of x-variables\n",
    "x_variables = ['mage', 'fage', 'fmaps',\n",
    "               'cigs', 'drink']\n",
    "\n",
    "# applying modelin scikit-learn\n",
    "\n",
    "# preparing x-variables from the OLS model\n",
    "ols_data = bwlow_colna.loc[: , x_variables]\n",
    "\n",
    "\n",
    "# preparing response variable\n",
    "bwght_target = bwlow_colna.loc[ : , \"bwght\"]\n",
    "\n",
    "\n",
    "###############################################\n",
    "## setting up more than one train-test split ##\n",
    "###############################################\n",
    "# FULL X-dataset (normal Y)\n",
    "x_train_FULL, x_test_FULL, y_train_FULL, y_test_FULL = train_test_split(\n",
    "            bwght_data,     # x-variables\n",
    "            bwght_target,   # y-variable\n",
    "            test_size = 0.25,\n",
    "            random_state = 219)\n",
    "\n",
    "\n",
    "# OLS p-value x-dataset (normal Y)\n",
    "x_train_OLS, x_test_OLS, y_train_OLS, y_test_OLS = train_test_split(\n",
    "            ols_data,         # x-variables\n",
    "            bwght_target,   # y-variable\n",
    "            test_size = 0.25,\n",
    "            random_state = 219)\n",
    "\n",
    "##########################################################################\n",
    "# Linear Regression\n",
    "##########################################################################\n",
    "\n",
    "# INSTANTIATING a model object\n",
    "lr = LinearRegression()\n",
    "\n",
    "\n",
    "# FITTING to the training data\n",
    "lr_fit = lr.fit(x_train_OLS, y_train_OLS)\n",
    "\n",
    "\n",
    "# PREDICTING on new data\n",
    "lr_pred = lr_fit.predict(x_test_OLS)\n",
    "\n",
    "# Calculating the r-square of the train model\n",
    "lr_train_score = lr.score(x_train_OLS, y_train_OLS).round(4)\n",
    "\n",
    "# This will never know the true values of the Y\n",
    "lr_test_score = lr.score(x_test_OLS, y_test_OLS).round(4)\n",
    "\n",
    "# Saving test gap\n",
    "lr_test_gap = abs(lr_train_score - lr_test_score).round(4)\n",
    "\n",
    "\n",
    "##########################################################################\n",
    "# Lasso Regression\n",
    "##########################################################################\n",
    "\n",
    "# INSTANTIATING a model object\n",
    "lasso_model = sklearn.linear_model.Lasso(alpha = 1.0,\n",
    "                                         normalize = True) # default magitude\n",
    "\n",
    "# FITTING to the training data\n",
    "lasso_fit = lasso_model.fit(x_train_FULL, y_train_FULL)\n",
    "\n",
    "# PREDICTING on new data\n",
    "lasso_pred = lasso_fit.predict(x_test_FULL)\n",
    "\n",
    "# saving scoring data for future use\n",
    "lasso_train_score = lasso_model.score(x_train_FULL, y_train_FULL).round(4) # using R-square\n",
    "lasso_test_score  = lasso_model.score(x_test_FULL, y_test_FULL).round(4)   # using R-square\n",
    "\n",
    "# Saving gap score\n",
    "lasso_test_gap = abs(lasso_train_score - lasso_test_score).round(4)\n",
    "\n",
    "##########################################################################\n",
    "# Bayesian Automatic Relevance Determination (ARD) \n",
    "##########################################################################\n",
    "\n",
    "# INSTANTIATING a model object\n",
    "ard_model = sklearn.linear_model.ARDRegression()\n",
    "\n",
    "# FITTING the training data\n",
    "ard_fit = ard_model.fit(x_train_FULL, y_train_FULL)\n",
    "\n",
    "# PREDICTING on new data\n",
    "ard_pred = ard_fit.predict(x_test_FULL)\n",
    "\n",
    "# Saving scoring data for future use\n",
    "ard_train_score = ard_model.score(x_train_FULL, y_train_FULL).round(4)\n",
    "ard_test_score  = ard_model.score(x_test_FULL, y_test_FULL).round(4)\n",
    "\n",
    "# Saving gap score\n",
    "ard_test_gap = abs(ard_train_score - ard_test_score).round(4)\n",
    "\n",
    "##########################################################################\n",
    "# Bayesian Automatic Relevance Determination (ARD) \n",
    "##########################################################################\n",
    "\n",
    "#Printing final model and comparison\n",
    "\n",
    "print(f\"\"\"\n",
    "Model      Train Score      Test Score      Gap Score\n",
    "-----      -----------      ----------      ----------\n",
    "OLS        {lr_train_score}           {lr_test_score}           {lr_test_gap}    Final Model\n",
    "Lasso      {lasso_train_score}           {lasso_test_score}           {lasso_test_gap}\n",
    "ARD        {ard_train_score}            {ard_test_score}           {ard_test_gap}\n",
    "\"\"\")\n"
   ]
  },
  {
   "cell_type": "markdown",
   "id": "2413b950",
   "metadata": {},
   "source": [
    "<h1>Preparation of the data</h1> \n",
    "\n",
    "<h2>First exploration </h2>\n",
    "\n",
    "During a first exploration of the data, it was noticed that some columns contained no data at all as it is shown in the outputs of Code 1.1.1 and Code 1.1.2 below. In this sense, columns 18 to 22 were dropped from the data set."
   ]
  },
  {
   "cell_type": "code",
   "execution_count": 2,
   "id": "3af3629b",
   "metadata": {},
   "outputs": [
    {
     "data": {
      "text/plain": [
       "Index(['mage', 'meduc', 'monpre', 'npvis', 'fage', 'feduc', 'omaps', 'fmaps',\n",
       "       'cigs', 'drink', 'male', 'mwhte', 'mblck', 'moth', 'fwhte', 'fblck',\n",
       "       'foth', 'bwght', 'Unnamed: 18', 'Unnamed: 19', 'Unnamed: 20',\n",
       "       'Unnamed: 21', 'Unnamed: 22', 'Unnamed: 23', 'Unnamed: 24',\n",
       "       'Unnamed: 25', 'Unnamed: 26', 'Unnamed: 27', 'Unnamed: 28',\n",
       "       'Unnamed: 29', 'Unnamed: 30', 'Unnamed: 31', 'Unnamed: 32',\n",
       "       'Unnamed: 33'],\n",
       "      dtype='object')"
      ]
     },
     "execution_count": 2,
     "metadata": {},
     "output_type": "execute_result"
    }
   ],
   "source": [
    "# Code 1.1.1\n",
    "bwlow.columns"
   ]
  },
  {
   "cell_type": "code",
   "execution_count": 3,
   "id": "8cb68b35",
   "metadata": {},
   "outputs": [
    {
     "data": {
      "text/html": [
       "<div>\n",
       "<style scoped>\n",
       "    .dataframe tbody tr th:only-of-type {\n",
       "        vertical-align: middle;\n",
       "    }\n",
       "\n",
       "    .dataframe tbody tr th {\n",
       "        vertical-align: top;\n",
       "    }\n",
       "\n",
       "    .dataframe thead th {\n",
       "        text-align: right;\n",
       "    }\n",
       "</style>\n",
       "<table border=\"1\" class=\"dataframe\">\n",
       "  <thead>\n",
       "    <tr style=\"text-align: right;\">\n",
       "      <th></th>\n",
       "      <th>Unnamed: 18</th>\n",
       "      <th>Unnamed: 19</th>\n",
       "      <th>Unnamed: 20</th>\n",
       "      <th>Unnamed: 21</th>\n",
       "      <th>Unnamed: 22</th>\n",
       "      <th>Unnamed: 23</th>\n",
       "      <th>Unnamed: 24</th>\n",
       "      <th>Unnamed: 25</th>\n",
       "      <th>Unnamed: 26</th>\n",
       "      <th>Unnamed: 27</th>\n",
       "      <th>Unnamed: 28</th>\n",
       "      <th>Unnamed: 29</th>\n",
       "      <th>Unnamed: 30</th>\n",
       "      <th>Unnamed: 31</th>\n",
       "      <th>Unnamed: 32</th>\n",
       "      <th>Unnamed: 33</th>\n",
       "    </tr>\n",
       "  </thead>\n",
       "  <tbody>\n",
       "    <tr>\n",
       "      <th>count</th>\n",
       "      <td>0.0</td>\n",
       "      <td>0.0</td>\n",
       "      <td>0.0</td>\n",
       "      <td>0.0</td>\n",
       "      <td>0.0</td>\n",
       "      <td>0.0</td>\n",
       "      <td>0.0</td>\n",
       "      <td>0.0</td>\n",
       "      <td>0.0</td>\n",
       "      <td>0.0</td>\n",
       "      <td>0.0</td>\n",
       "      <td>0.0</td>\n",
       "      <td>0.0</td>\n",
       "      <td>0.0</td>\n",
       "      <td>0.0</td>\n",
       "      <td>0.0</td>\n",
       "    </tr>\n",
       "    <tr>\n",
       "      <th>mean</th>\n",
       "      <td>NaN</td>\n",
       "      <td>NaN</td>\n",
       "      <td>NaN</td>\n",
       "      <td>NaN</td>\n",
       "      <td>NaN</td>\n",
       "      <td>NaN</td>\n",
       "      <td>NaN</td>\n",
       "      <td>NaN</td>\n",
       "      <td>NaN</td>\n",
       "      <td>NaN</td>\n",
       "      <td>NaN</td>\n",
       "      <td>NaN</td>\n",
       "      <td>NaN</td>\n",
       "      <td>NaN</td>\n",
       "      <td>NaN</td>\n",
       "      <td>NaN</td>\n",
       "    </tr>\n",
       "    <tr>\n",
       "      <th>std</th>\n",
       "      <td>NaN</td>\n",
       "      <td>NaN</td>\n",
       "      <td>NaN</td>\n",
       "      <td>NaN</td>\n",
       "      <td>NaN</td>\n",
       "      <td>NaN</td>\n",
       "      <td>NaN</td>\n",
       "      <td>NaN</td>\n",
       "      <td>NaN</td>\n",
       "      <td>NaN</td>\n",
       "      <td>NaN</td>\n",
       "      <td>NaN</td>\n",
       "      <td>NaN</td>\n",
       "      <td>NaN</td>\n",
       "      <td>NaN</td>\n",
       "      <td>NaN</td>\n",
       "    </tr>\n",
       "    <tr>\n",
       "      <th>min</th>\n",
       "      <td>NaN</td>\n",
       "      <td>NaN</td>\n",
       "      <td>NaN</td>\n",
       "      <td>NaN</td>\n",
       "      <td>NaN</td>\n",
       "      <td>NaN</td>\n",
       "      <td>NaN</td>\n",
       "      <td>NaN</td>\n",
       "      <td>NaN</td>\n",
       "      <td>NaN</td>\n",
       "      <td>NaN</td>\n",
       "      <td>NaN</td>\n",
       "      <td>NaN</td>\n",
       "      <td>NaN</td>\n",
       "      <td>NaN</td>\n",
       "      <td>NaN</td>\n",
       "    </tr>\n",
       "    <tr>\n",
       "      <th>25%</th>\n",
       "      <td>NaN</td>\n",
       "      <td>NaN</td>\n",
       "      <td>NaN</td>\n",
       "      <td>NaN</td>\n",
       "      <td>NaN</td>\n",
       "      <td>NaN</td>\n",
       "      <td>NaN</td>\n",
       "      <td>NaN</td>\n",
       "      <td>NaN</td>\n",
       "      <td>NaN</td>\n",
       "      <td>NaN</td>\n",
       "      <td>NaN</td>\n",
       "      <td>NaN</td>\n",
       "      <td>NaN</td>\n",
       "      <td>NaN</td>\n",
       "      <td>NaN</td>\n",
       "    </tr>\n",
       "    <tr>\n",
       "      <th>50%</th>\n",
       "      <td>NaN</td>\n",
       "      <td>NaN</td>\n",
       "      <td>NaN</td>\n",
       "      <td>NaN</td>\n",
       "      <td>NaN</td>\n",
       "      <td>NaN</td>\n",
       "      <td>NaN</td>\n",
       "      <td>NaN</td>\n",
       "      <td>NaN</td>\n",
       "      <td>NaN</td>\n",
       "      <td>NaN</td>\n",
       "      <td>NaN</td>\n",
       "      <td>NaN</td>\n",
       "      <td>NaN</td>\n",
       "      <td>NaN</td>\n",
       "      <td>NaN</td>\n",
       "    </tr>\n",
       "    <tr>\n",
       "      <th>75%</th>\n",
       "      <td>NaN</td>\n",
       "      <td>NaN</td>\n",
       "      <td>NaN</td>\n",
       "      <td>NaN</td>\n",
       "      <td>NaN</td>\n",
       "      <td>NaN</td>\n",
       "      <td>NaN</td>\n",
       "      <td>NaN</td>\n",
       "      <td>NaN</td>\n",
       "      <td>NaN</td>\n",
       "      <td>NaN</td>\n",
       "      <td>NaN</td>\n",
       "      <td>NaN</td>\n",
       "      <td>NaN</td>\n",
       "      <td>NaN</td>\n",
       "      <td>NaN</td>\n",
       "    </tr>\n",
       "    <tr>\n",
       "      <th>max</th>\n",
       "      <td>NaN</td>\n",
       "      <td>NaN</td>\n",
       "      <td>NaN</td>\n",
       "      <td>NaN</td>\n",
       "      <td>NaN</td>\n",
       "      <td>NaN</td>\n",
       "      <td>NaN</td>\n",
       "      <td>NaN</td>\n",
       "      <td>NaN</td>\n",
       "      <td>NaN</td>\n",
       "      <td>NaN</td>\n",
       "      <td>NaN</td>\n",
       "      <td>NaN</td>\n",
       "      <td>NaN</td>\n",
       "      <td>NaN</td>\n",
       "      <td>NaN</td>\n",
       "    </tr>\n",
       "  </tbody>\n",
       "</table>\n",
       "</div>"
      ],
      "text/plain": [
       "       Unnamed: 18  Unnamed: 19  Unnamed: 20  Unnamed: 21  Unnamed: 22  \\\n",
       "count          0.0          0.0          0.0          0.0          0.0   \n",
       "mean           NaN          NaN          NaN          NaN          NaN   \n",
       "std            NaN          NaN          NaN          NaN          NaN   \n",
       "min            NaN          NaN          NaN          NaN          NaN   \n",
       "25%            NaN          NaN          NaN          NaN          NaN   \n",
       "50%            NaN          NaN          NaN          NaN          NaN   \n",
       "75%            NaN          NaN          NaN          NaN          NaN   \n",
       "max            NaN          NaN          NaN          NaN          NaN   \n",
       "\n",
       "       Unnamed: 23  Unnamed: 24  Unnamed: 25  Unnamed: 26  Unnamed: 27  \\\n",
       "count          0.0          0.0          0.0          0.0          0.0   \n",
       "mean           NaN          NaN          NaN          NaN          NaN   \n",
       "std            NaN          NaN          NaN          NaN          NaN   \n",
       "min            NaN          NaN          NaN          NaN          NaN   \n",
       "25%            NaN          NaN          NaN          NaN          NaN   \n",
       "50%            NaN          NaN          NaN          NaN          NaN   \n",
       "75%            NaN          NaN          NaN          NaN          NaN   \n",
       "max            NaN          NaN          NaN          NaN          NaN   \n",
       "\n",
       "       Unnamed: 28  Unnamed: 29  Unnamed: 30  Unnamed: 31  Unnamed: 32  \\\n",
       "count          0.0          0.0          0.0          0.0          0.0   \n",
       "mean           NaN          NaN          NaN          NaN          NaN   \n",
       "std            NaN          NaN          NaN          NaN          NaN   \n",
       "min            NaN          NaN          NaN          NaN          NaN   \n",
       "25%            NaN          NaN          NaN          NaN          NaN   \n",
       "50%            NaN          NaN          NaN          NaN          NaN   \n",
       "75%            NaN          NaN          NaN          NaN          NaN   \n",
       "max            NaN          NaN          NaN          NaN          NaN   \n",
       "\n",
       "       Unnamed: 33  \n",
       "count          0.0  \n",
       "mean           NaN  \n",
       "std            NaN  \n",
       "min            NaN  \n",
       "25%            NaN  \n",
       "50%            NaN  \n",
       "75%            NaN  \n",
       "max            NaN  "
      ]
     },
     "execution_count": 3,
     "metadata": {},
     "output_type": "execute_result"
    }
   ],
   "source": [
    "# Code 1.1.2\n",
    "bwlow.iloc[ : , 18:34].describe()"
   ]
  },
  {
   "cell_type": "markdown",
   "id": "f2c197a5",
   "metadata": {},
   "source": [
    "<h2>Classification of the data </h2>\n",
    "\n",
    "Before proceeding with any feature engineering, the data was the classified by type as follows:\n",
    "\n",
    "<h3>Continuous</h3>\n",
    "\n",
    "<br>bwght</br>\n",
    "<br>mage</br>\n",
    "<br>fage</br>\n",
    "\n",
    "<h3>Interval/Count</h3>\n",
    "<br>meduc</br>\n",
    "<br>monpre</br>\n",
    "<br>npvis</br>\n",
    "<br>feduc</br>\n",
    "<br>omaps</br>\n",
    "<br>fmaps</br>\n",
    "<br>cigs</br>\n",
    "<br>drink</br>\n",
    "\n",
    "<h3>Categorical/Other</h3>\n",
    "<br>male</br>\n",
    "<br>mwhte</br>\n",
    "<br>mblck</br>\n",
    "<br>moth</br>\n",
    "<br>fwhte</br>\n",
    "<br>fblck</br>\n",
    "<br>foth</br>\n",
    "\n",
    "<h2>Imputing missing values</h2>\n",
    "\n",
    "Based on the result of the descriptive statistics and the mode of the features including missing values, it was decided to impute as following since the missing values represent less than 5% of the data.\n",
    "<br></br>\n",
    "<br></br>\n",
    "For mother education, \"meduc\", it was decided to impute mode, 12 as a result of the analysis of the outputs from Code 1.3.1 and Code 1.3.2."
   ]
  },
  {
   "cell_type": "code",
   "execution_count": 4,
   "id": "277c3c6b",
   "metadata": {
    "cell_style": "split"
   },
   "outputs": [
    {
     "data": {
      "text/plain": [
       "count    196.00\n",
       "mean      13.88\n",
       "std        2.05\n",
       "min        8.00\n",
       "25%       12.00\n",
       "50%       14.00\n",
       "75%       16.00\n",
       "max       17.00\n",
       "Name: meduc, dtype: float64"
      ]
     },
     "execution_count": 4,
     "metadata": {},
     "output_type": "execute_result"
    }
   ],
   "source": [
    "# Code 1.3.1\n",
    "bwlow_colna['meduc'].describe().round(decimals = 2)"
   ]
  },
  {
   "cell_type": "code",
   "execution_count": 5,
   "id": "731d6c47",
   "metadata": {
    "cell_style": "split"
   },
   "outputs": [
    {
     "data": {
      "text/plain": [
       "0    12.0\n",
       "dtype: float64"
      ]
     },
     "execution_count": 5,
     "metadata": {},
     "output_type": "execute_result"
    }
   ],
   "source": [
    "# Code 1.3.2\n",
    "bwlow_colna['meduc'].mode()"
   ]
  },
  {
   "cell_type": "markdown",
   "id": "bab979e2",
   "metadata": {},
   "source": [
    "For number of prenatal visits, \"npvis\", it was decided to impute mode, 12 as a result of the analysis of the outputs from Code 1.3.3 and Code 1.3.4."
   ]
  },
  {
   "cell_type": "code",
   "execution_count": 6,
   "id": "ceccd56a",
   "metadata": {
    "cell_style": "split"
   },
   "outputs": [
    {
     "data": {
      "text/plain": [
       "count    196.00\n",
       "mean      11.61\n",
       "std        4.23\n",
       "min        2.00\n",
       "25%       10.00\n",
       "50%       12.00\n",
       "75%       12.00\n",
       "max       35.00\n",
       "Name: npvis, dtype: float64"
      ]
     },
     "execution_count": 6,
     "metadata": {},
     "output_type": "execute_result"
    }
   ],
   "source": [
    "# Code 1.3.3\n",
    "bwlow_colna['npvis'].describe().round(decimals = 2)"
   ]
  },
  {
   "cell_type": "code",
   "execution_count": 7,
   "id": "e28796e2",
   "metadata": {
    "cell_style": "split"
   },
   "outputs": [
    {
     "data": {
      "text/plain": [
       "0    12.0\n",
       "dtype: float64"
      ]
     },
     "execution_count": 7,
     "metadata": {},
     "output_type": "execute_result"
    }
   ],
   "source": [
    "# Code 1.3.4\n",
    "bwlow_colna['npvis'].mode()"
   ]
  },
  {
   "cell_type": "markdown",
   "id": "6260210e",
   "metadata": {},
   "source": [
    "For father education, \"feduc\", it was decided to impute mode, 12 as a result of the analysis of the outputs from Code 1.3.5 and Code 1.3.6."
   ]
  },
  {
   "cell_type": "code",
   "execution_count": 8,
   "id": "a4582037",
   "metadata": {
    "cell_style": "split"
   },
   "outputs": [
    {
     "data": {
      "text/plain": [
       "count    196.00\n",
       "mean      13.78\n",
       "std        2.61\n",
       "min        1.00\n",
       "25%       12.00\n",
       "50%       14.00\n",
       "75%       16.00\n",
       "max       17.00\n",
       "Name: feduc, dtype: float64"
      ]
     },
     "execution_count": 8,
     "metadata": {},
     "output_type": "execute_result"
    }
   ],
   "source": [
    "# Code 1.3.5\n",
    "bwlow_colna['feduc'].describe().round(decimals = 2)"
   ]
  },
  {
   "cell_type": "code",
   "execution_count": 9,
   "id": "dabe4e4d",
   "metadata": {
    "cell_style": "split"
   },
   "outputs": [
    {
     "data": {
      "text/plain": [
       "0    12.0\n",
       "dtype: float64"
      ]
     },
     "execution_count": 9,
     "metadata": {},
     "output_type": "execute_result"
    }
   ],
   "source": [
    "# Code 1.3.6\n",
    "bwlow_colna['feduc'].mode()"
   ]
  },
  {
   "cell_type": "markdown",
   "id": "8f922406",
   "metadata": {},
   "source": [
    "<h2>Continuous data</h2>\n",
    "\n",
    "A visual exploratory data analysis was conducted for the continuous using Code 1.4.1 in order to develop trend features, however, after the analysis it is clear that there are no enough observations to flag engineering these features."
   ]
  },
  {
   "cell_type": "code",
   "execution_count": 10,
   "id": "754dccd4",
   "metadata": {
    "scrolled": false
   },
   "outputs": [
    {
     "data": {
      "image/png": "[encoded data removed]",
      "text/plain": [
       "<Figure size 720x576 with 2 Axes>"
      ]
     },
     "metadata": {
      "needs_background": "light"
     },
     "output_type": "display_data"
    }
   ],
   "source": [
    "# Code 1.4.1\n",
    "\n",
    "########################\n",
    "# Visual EDA (Scatterplots)\n",
    "########################\n",
    "\n",
    "# setting figure size\n",
    "fig, ax = plt.subplots(figsize = (10, 8))\n",
    "\n",
    "\n",
    "# developing a scatterplot\n",
    "plt.subplot(2, 2, 1)\n",
    "sns.scatterplot(x = bwlow_colna['mage'],\n",
    "                y = bwlow_colna['bwght'],\n",
    "                color = 'g')\n",
    "\n",
    "\n",
    "# adding labels but not adding title\n",
    "plt.xlabel(xlabel = 'Mother Age')\n",
    "plt.ylabel(ylabel = 'Birth weight')\n",
    "\n",
    "\n",
    "########################\n",
    "\n",
    "\n",
    "# developing a scatterplot\n",
    "plt.subplot(2, 2, 2)\n",
    "sns.scatterplot(x = bwlow_colna['fage'],\n",
    "                y = bwlow_colna['bwght'],\n",
    "                color = 'g')\n",
    "\n",
    "\n",
    "# adding labels but not adding title\n",
    "plt.xlabel(xlabel = 'Father Age')\n",
    "plt.ylabel(ylabel = 'Birth weight')\n",
    "\n",
    "\n",
    "########################\n",
    "plt.tight_layout()\n",
    "plt.show()"
   ]
  },
  {
   "cell_type": "markdown",
   "id": "9d8891a6",
   "metadata": {},
   "source": [
    "<h2> Interval and Count Data</h2>\n",
    "\n",
    "The interval and count data was transformed to a logarithmic form using Code 1.5.1 and then boxplots were used to check if the distribution of the data changed."
   ]
  },
  {
   "cell_type": "code",
   "execution_count": 11,
   "id": "01cf1144",
   "metadata": {},
   "outputs": [],
   "source": [
    "#Code 1.5.1\n",
    "\n",
    "# log transforming Lot_Area and saving it to the dataset\n",
    "bwlow_colna['log_meduc'] = np.log(bwlow_colna['meduc'])\n",
    "\n",
    "\n",
    "bwlow_colna['log_monpre'] = np.log(bwlow_colna['monpre'])\n",
    "\n",
    "# log transforming Lot_Area and saving it to the dataset\n",
    "bwlow_colna['log_npvis'] = np.log(bwlow_colna['npvis'])\n",
    "\n",
    "# log transforming Lot_Area and saving it to the dataset\n",
    "bwlow_colna['log_feduc'] = np.log(bwlow_colna['feduc'])\n",
    "\n",
    "# log transforming Lot_Area and saving it to the dataset\n",
    "bwlow_colna['log_omaps'] = np.log(bwlow_colna['omaps'])\n",
    "\n",
    "# log transforming Lot_Area and saving it to the dataset\n",
    "bwlow_colna['log_fmaps'] = np.log(bwlow_colna['fmaps'])\n"
   ]
  },
  {
   "cell_type": "code",
   "execution_count": 12,
   "id": "b0d56364",
   "metadata": {
    "cell_style": "split",
    "scrolled": false
   },
   "outputs": [
    {
     "data": {
      "image/png": "[encoded data removed]",
      "text/plain": [
       "<Figure size 432x288 with 1 Axes>"
      ]
     },
     "metadata": {
      "needs_background": "light"
     },
     "output_type": "display_data"
    },
    {
     "data": {
      "image/png": "[encoded data removed]",
      "text/plain": [
       "<Figure size 432x288 with 1 Axes>"
      ]
     },
     "metadata": {
      "needs_background": "light"
     },
     "output_type": "display_data"
    },
    {
     "data": {
      "image/png": "[encoded data removed]",
      "text/plain": [
       "<Figure size 432x288 with 1 Axes>"
      ]
     },
     "metadata": {
      "needs_background": "light"
     },
     "output_type": "display_data"
    },
    {
     "data": {
      "image/png": "[encoded data removed]",
      "text/plain": [
       "<Figure size 432x288 with 1 Axes>"
      ]
     },
     "metadata": {
      "needs_background": "light"
     },
     "output_type": "display_data"
    },
    {
     "data": {
      "image/png": "[encoded data removed]",
      "text/plain": [
       "<Figure size 432x288 with 1 Axes>"
      ]
     },
     "metadata": {
      "needs_background": "light"
     },
     "output_type": "display_data"
    },
    {
     "data": {
      "image/png": "[encoded data removed]",
      "text/plain": [
       "<Figure size 432x288 with 1 Axes>"
      ]
     },
     "metadata": {
      "needs_background": "light"
     },
     "output_type": "display_data"
    }
   ],
   "source": [
    "#Code 1.5.2\n",
    "\n",
    "########################################################\n",
    "# developing a boxplot\n",
    "sns.boxplot(x    = 'meduc',\n",
    "            y    = 'bwght',\n",
    "            data = bwlow_colna)\n",
    "\n",
    "# titles and axis labels\n",
    "plt.title(label   = 'Boxplot with Interval Data')\n",
    "plt.xlabel(xlabel = 'Mother education')\n",
    "plt.ylabel(ylabel = 'Birth weight')\n",
    "\n",
    "# displaying the plot\n",
    "plt.show()\n",
    "\n",
    "########################################################\n",
    "\n",
    "# developing a boxplot\n",
    "sns.boxplot(x    = 'monpre',\n",
    "            y    = 'bwght',\n",
    "            data = bwlow_colna)\n",
    "\n",
    "# titles and axis labels\n",
    "plt.title(label   = 'Boxplot with Interval Data')\n",
    "plt.xlabel(xlabel = 'Month prenatal care')\n",
    "plt.ylabel(ylabel = 'Birth weight')\n",
    "\n",
    "# displaying the plot\n",
    "plt.show()\n",
    "\n",
    "########################################################\n",
    "\n",
    "# developing a boxplot\n",
    "sns.boxplot(x    = 'npvis',\n",
    "            y    = 'bwght',\n",
    "            data = bwlow_colna)\n",
    "\n",
    "# titles and axis labels\n",
    "plt.title(label   = 'Boxplot with Interval Data')\n",
    "plt.xlabel(xlabel = 'Prenatal visits')\n",
    "plt.ylabel(ylabel = 'Birth weight')\n",
    "\n",
    "# displaying the plot\n",
    "plt.show()\n",
    "\n",
    "########################################################\n",
    "\n",
    "# developing a boxplot\n",
    "sns.boxplot(x    = 'feduc',\n",
    "            y    = 'bwght',\n",
    "            data = bwlow_colna)\n",
    "\n",
    "# titles and axis labels\n",
    "plt.title(label   = 'Boxplot with Interval Data')\n",
    "plt.xlabel(xlabel = 'Father education')\n",
    "plt.ylabel(ylabel = 'Birth weight')\n",
    "\n",
    "\n",
    "# displaying the plot\n",
    "plt.show()\n",
    "\n",
    "########################################################\n",
    "\n",
    "# developing a boxplot\n",
    "sns.boxplot(x    = 'omaps',\n",
    "            y    = 'bwght',\n",
    "            data = bwlow_colna)\n",
    "\n",
    "# titles and axis labels\n",
    "plt.title(label   = 'Boxplot with Interval Data')\n",
    "plt.xlabel(xlabel = 'Test omaps')\n",
    "plt.ylabel(ylabel = 'Birth weight')\n",
    "\n",
    "# displaying the plot\n",
    "plt.show()\n",
    "\n",
    "########################################################\n",
    "\n",
    "# developing a boxplot\n",
    "sns.boxplot(x    = 'fmaps',\n",
    "            y    = 'bwght',\n",
    "            data = bwlow_colna)\n",
    "\n",
    "# titles and axis labels\n",
    "plt.title(label   = 'Boxplot with Interval Data')\n",
    "plt.xlabel(xlabel = 'Test fmaps')\n",
    "plt.ylabel(ylabel = 'Birth weight')\n",
    "\n",
    "# displaying the plot\n",
    "plt.show()\n"
   ]
  },
  {
   "cell_type": "code",
   "execution_count": 13,
   "id": "60a19f6b",
   "metadata": {
    "cell_style": "split",
    "scrolled": false
   },
   "outputs": [
    {
     "data": {
      "image/png": "[encoded data removed]",
      "text/plain": [
       "<Figure size 432x288 with 1 Axes>"
      ]
     },
     "metadata": {
      "needs_background": "light"
     },
     "output_type": "display_data"
    },
    {
     "data": {
      "image/png": "[encoded data removed]",
      "text/plain": [
       "<Figure size 432x288 with 1 Axes>"
      ]
     },
     "metadata": {
      "needs_background": "light"
     },
     "output_type": "display_data"
    },
    {
     "data": {
      "image/png": "[encoded data removed]",
      "text/plain": [
       "<Figure size 432x288 with 1 Axes>"
      ]
     },
     "metadata": {
      "needs_background": "light"
     },
     "output_type": "display_data"
    },
    {
     "data": {
      "image/png": "[encoded data removed]",
      "text/plain": [
       "<Figure size 432x288 with 1 Axes>"
      ]
     },
     "metadata": {
      "needs_background": "light"
     },
     "output_type": "display_data"
    },
    {
     "data": {
      "image/png": "[encoded data removed]",
      "text/plain": [
       "<Figure size 432x288 with 1 Axes>"
      ]
     },
     "metadata": {
      "needs_background": "light"
     },
     "output_type": "display_data"
    },
    {
     "data": {
      "image/png": "[encoded data removed]",
      "text/plain": [
       "<Figure size 432x288 with 1 Axes>"
      ]
     },
     "metadata": {
      "needs_background": "light"
     },
     "output_type": "display_data"
    }
   ],
   "source": [
    "#Code 1.5.3\n",
    "\n",
    "########################################################\n",
    "# developing a boxplot\n",
    "sns.boxplot(x    = 'log_meduc',\n",
    "            y    = 'log_bwght',\n",
    "            data = bwlow_colna)\n",
    "\n",
    "# titles and axis labels\n",
    "plt.title(label   = 'Boxplot with Interval Data')\n",
    "plt.xlabel(xlabel = 'Log mother education')\n",
    "plt.ylabel(ylabel = 'Birth weight')\n",
    "\n",
    "# displaying the plot\n",
    "plt.show()\n",
    "\n",
    "########################################################\n",
    "\n",
    "# developing a boxplot\n",
    "sns.boxplot(x    = 'log_monpre',\n",
    "            y    = 'log_bwght',\n",
    "            data = bwlow_colna)\n",
    "\n",
    "# titles and axis labels\n",
    "plt.title(label   = 'Boxplot with Interval Data')\n",
    "plt.xlabel(xlabel = 'Log Month prenatal care')\n",
    "plt.ylabel(ylabel = 'Birth weight')\n",
    "\n",
    "# displaying the plot\n",
    "plt.show()\n",
    "\n",
    "########################################################\n",
    "\n",
    "# developing a boxplot\n",
    "sns.boxplot(x    = 'log_npvis',\n",
    "            y    = 'log_bwght',\n",
    "            data = bwlow_colna)\n",
    "\n",
    "# titles and axis labels\n",
    "plt.title(label   = 'Boxplot with Interval Data')\n",
    "plt.xlabel(xlabel = 'Log Prenatal visits')\n",
    "plt.ylabel(ylabel = 'Birth weight')\n",
    "\n",
    "\n",
    "# displaying the plot\n",
    "plt.show()\n",
    "\n",
    "########################################################\n",
    "\n",
    "# developing a boxplot\n",
    "sns.boxplot(x    = 'log_feduc',\n",
    "            y    = 'log_bwght',\n",
    "            data = bwlow_colna)\n",
    "\n",
    "# titles and axis labels\n",
    "plt.title(label   = 'Boxplot with Interval Data')\n",
    "plt.xlabel(xlabel = 'Log father education')\n",
    "plt.ylabel(ylabel = 'Birth weight')\n",
    "\n",
    "# displaying the plot\n",
    "plt.show()\n",
    "\n",
    "########################################################\n",
    "\n",
    "# developing a boxplot\n",
    "sns.boxplot(x    = 'log_omaps',\n",
    "            y    = 'log_bwght',\n",
    "            data = bwlow_colna)\n",
    "\n",
    "# titles and axis labels\n",
    "plt.title(label   = 'Boxplot with Interval Data')\n",
    "plt.xlabel(xlabel = 'Log Test omaps')\n",
    "plt.ylabel(ylabel = 'Birth weight')\n",
    "\n",
    "# displaying the plot\n",
    "plt.show()\n",
    "\n",
    "########################################################\n",
    "\n",
    "# developing a boxplot\n",
    "sns.boxplot(x    = 'log_fmaps',\n",
    "            y    = 'log_bwght',\n",
    "            data = bwlow_colna)\n",
    "\n",
    "# titles and axis labels\n",
    "plt.title(label   = 'Boxplot with Interval Data')\n",
    "plt.xlabel(xlabel = 'Test fmaps')\n",
    "plt.ylabel(ylabel = 'Birth weight')\n",
    "\n",
    "# displaying the plot\n",
    "plt.show()\n"
   ]
  },
  {
   "cell_type": "markdown",
   "id": "fc60bb09",
   "metadata": {},
   "source": [
    "<h2> Categorical Data</h2>\n"
   ]
  },
  {
   "cell_type": "markdown",
   "id": "64543dbf",
   "metadata": {},
   "source": [
    "The ethnicity of mother and father is already presented in a dummy format, therefore if will be necessary to drop one column in each feature. For the ethnicity was created another feature for mother/father is people of color."
   ]
  }
 ],
 "metadata": {
  "kernelspec": {
   "display_name": "Python 3",
   "language": "python",
   "name": "python3"
  },
  "language_info": {
   "codemirror_mode": {
    "name": "ipython",
    "version": 3
   },
   "file_extension": ".py",
   "mimetype": "text/x-python",
   "name": "python",
   "nbconvert_exporter": "python",
   "pygments_lexer": "ipython3",
   "version": "3.8.8"
  },
  "toc": {
   "base_numbering": 1,
   "nav_menu": {},
   "number_sections": true,
   "sideBar": true,
   "skip_h1_title": false,
   "title_cell": "Table of Contents",
   "title_sidebar": "Contents",
   "toc_cell": false,
   "toc_position": {},
   "toc_section_display": true,
   "toc_window_display": false
  },
  "varInspector": {
   "cols": {
    "lenName": 16,
    "lenType": 16,
    "lenVar": 40
   },
   "kernels_config": {
    "python": {
     "delete_cmd_postfix": "",
     "delete_cmd_prefix": "del ",
     "library": "var_list.py",
     "varRefreshCmd": "print(var_dic_list())"
    },
    "r": {
     "delete_cmd_postfix": ") ",
     "delete_cmd_prefix": "rm(",
     "library": "var_list.r",
     "varRefreshCmd": "cat(var_dic_list()) "
    }
   },
   "types_to_exclude": [
    "module",
    "function",
    "builtin_function_or_method",
    "instance",
    "_Feature"
   ],
   "window_display": false
  }
 },
 "nbformat": 4,
 "nbformat_minor": 5
}
